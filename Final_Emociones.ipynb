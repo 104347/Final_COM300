{
  "nbformat": 4,
  "nbformat_minor": 0,
  "metadata": {
    "colab": {
      "provenance": [],
      "collapsed_sections": [
        "bjWKPLddo57E",
        "bUNzeaL3o87E"
      ],
      "gpuType": "T4"
    },
    "kernelspec": {
      "name": "python3",
      "display_name": "Python 3"
    },
    "language_info": {
      "name": "python"
    },
    "accelerator": "GPU"
  },
  "cells": [
    {
      "cell_type": "markdown",
      "source": [
        "# **1. Librerias**"
      ],
      "metadata": {
        "id": "HRtJQ1EjosBh"
      }
    },
    {
      "cell_type": "code",
      "source": [
        "import numpy as np\n",
        "import pandas as pd\n",
        "import seaborn as sns\n",
        "import matplotlib.pyplot as plt\n",
        "import re\n",
        "import torch\n",
        "import torch.nn as nn\n",
        "import torch.optim as optim\n",
        "import torch.nn.functional as F\n",
        "from deep_translator import GoogleTranslator\n",
        "from sklearn.preprocessing import LabelEncoder\n",
        "from sklearn.model_selection import train_test_split\n",
        "from torch.utils.data import Dataset, DataLoader\n",
        "from collections import Counter\n"
      ],
      "metadata": {
        "id": "iurgtSG0oedL"
      },
      "execution_count": 40,
      "outputs": []
    },
    {
      "cell_type": "markdown",
      "source": [
        "# **2. Dataset**"
      ],
      "metadata": {
        "id": "OklGMWhyolJQ"
      }
    },
    {
      "cell_type": "markdown",
      "source": [
        "## **2.1. Cargar dataset**"
      ],
      "metadata": {
        "id": "g62ryfF2JuiH"
      }
    },
    {
      "cell_type": "code",
      "source": [
        "df = pd.read_csv(\"/content/drive/MyDrive/Final_COM300/Emotion_final.csv\")"
      ],
      "metadata": {
        "id": "nEKitgao78Dd"
      },
      "execution_count": 41,
      "outputs": []
    },
    {
      "cell_type": "code",
      "source": [
        "df.head(10)"
      ],
      "metadata": {
        "colab": {
          "base_uri": "https://localhost:8080/",
          "height": 363
        },
        "id": "ol-SEFI28i22",
        "outputId": "393a8ba5-8317-4228-ecd3-b8dc2dc647e1"
      },
      "execution_count": 42,
      "outputs": [
        {
          "output_type": "execute_result",
          "data": {
            "text/plain": [
              "                                                Text   Emotion\n",
              "0                            i didnt feel humiliated   sadness\n",
              "1  i can go from feeling so hopeless to so damned...   sadness\n",
              "2   im grabbing a minute to post i feel greedy wrong     anger\n",
              "3  i am ever feeling nostalgic about the fireplac...      love\n",
              "4                               i am feeling grouchy     anger\n",
              "5  ive been feeling a little burdened lately wasn...   sadness\n",
              "6  ive been taking or milligrams or times recomme...  surprise\n",
              "7  i feel as confused about life as a teenager or...      fear\n",
              "8  i have been with petronas for years i feel tha...     happy\n",
              "9                                i feel romantic too      love"
            ],
            "text/html": [
              "\n",
              "  <div id=\"df-8fca1091-2108-4f13-a0cc-a522fd4c0eee\" class=\"colab-df-container\">\n",
              "    <div>\n",
              "<style scoped>\n",
              "    .dataframe tbody tr th:only-of-type {\n",
              "        vertical-align: middle;\n",
              "    }\n",
              "\n",
              "    .dataframe tbody tr th {\n",
              "        vertical-align: top;\n",
              "    }\n",
              "\n",
              "    .dataframe thead th {\n",
              "        text-align: right;\n",
              "    }\n",
              "</style>\n",
              "<table border=\"1\" class=\"dataframe\">\n",
              "  <thead>\n",
              "    <tr style=\"text-align: right;\">\n",
              "      <th></th>\n",
              "      <th>Text</th>\n",
              "      <th>Emotion</th>\n",
              "    </tr>\n",
              "  </thead>\n",
              "  <tbody>\n",
              "    <tr>\n",
              "      <th>0</th>\n",
              "      <td>i didnt feel humiliated</td>\n",
              "      <td>sadness</td>\n",
              "    </tr>\n",
              "    <tr>\n",
              "      <th>1</th>\n",
              "      <td>i can go from feeling so hopeless to so damned...</td>\n",
              "      <td>sadness</td>\n",
              "    </tr>\n",
              "    <tr>\n",
              "      <th>2</th>\n",
              "      <td>im grabbing a minute to post i feel greedy wrong</td>\n",
              "      <td>anger</td>\n",
              "    </tr>\n",
              "    <tr>\n",
              "      <th>3</th>\n",
              "      <td>i am ever feeling nostalgic about the fireplac...</td>\n",
              "      <td>love</td>\n",
              "    </tr>\n",
              "    <tr>\n",
              "      <th>4</th>\n",
              "      <td>i am feeling grouchy</td>\n",
              "      <td>anger</td>\n",
              "    </tr>\n",
              "    <tr>\n",
              "      <th>5</th>\n",
              "      <td>ive been feeling a little burdened lately wasn...</td>\n",
              "      <td>sadness</td>\n",
              "    </tr>\n",
              "    <tr>\n",
              "      <th>6</th>\n",
              "      <td>ive been taking or milligrams or times recomme...</td>\n",
              "      <td>surprise</td>\n",
              "    </tr>\n",
              "    <tr>\n",
              "      <th>7</th>\n",
              "      <td>i feel as confused about life as a teenager or...</td>\n",
              "      <td>fear</td>\n",
              "    </tr>\n",
              "    <tr>\n",
              "      <th>8</th>\n",
              "      <td>i have been with petronas for years i feel tha...</td>\n",
              "      <td>happy</td>\n",
              "    </tr>\n",
              "    <tr>\n",
              "      <th>9</th>\n",
              "      <td>i feel romantic too</td>\n",
              "      <td>love</td>\n",
              "    </tr>\n",
              "  </tbody>\n",
              "</table>\n",
              "</div>\n",
              "    <div class=\"colab-df-buttons\">\n",
              "\n",
              "  <div class=\"colab-df-container\">\n",
              "    <button class=\"colab-df-convert\" onclick=\"convertToInteractive('df-8fca1091-2108-4f13-a0cc-a522fd4c0eee')\"\n",
              "            title=\"Convert this dataframe to an interactive table.\"\n",
              "            style=\"display:none;\">\n",
              "\n",
              "  <svg xmlns=\"http://www.w3.org/2000/svg\" height=\"24px\" viewBox=\"0 -960 960 960\">\n",
              "    <path d=\"M120-120v-720h720v720H120Zm60-500h600v-160H180v160Zm220 220h160v-160H400v160Zm0 220h160v-160H400v160ZM180-400h160v-160H180v160Zm440 0h160v-160H620v160ZM180-180h160v-160H180v160Zm440 0h160v-160H620v160Z\"/>\n",
              "  </svg>\n",
              "    </button>\n",
              "\n",
              "  <style>\n",
              "    .colab-df-container {\n",
              "      display:flex;\n",
              "      gap: 12px;\n",
              "    }\n",
              "\n",
              "    .colab-df-convert {\n",
              "      background-color: #E8F0FE;\n",
              "      border: none;\n",
              "      border-radius: 50%;\n",
              "      cursor: pointer;\n",
              "      display: none;\n",
              "      fill: #1967D2;\n",
              "      height: 32px;\n",
              "      padding: 0 0 0 0;\n",
              "      width: 32px;\n",
              "    }\n",
              "\n",
              "    .colab-df-convert:hover {\n",
              "      background-color: #E2EBFA;\n",
              "      box-shadow: 0px 1px 2px rgba(60, 64, 67, 0.3), 0px 1px 3px 1px rgba(60, 64, 67, 0.15);\n",
              "      fill: #174EA6;\n",
              "    }\n",
              "\n",
              "    .colab-df-buttons div {\n",
              "      margin-bottom: 4px;\n",
              "    }\n",
              "\n",
              "    [theme=dark] .colab-df-convert {\n",
              "      background-color: #3B4455;\n",
              "      fill: #D2E3FC;\n",
              "    }\n",
              "\n",
              "    [theme=dark] .colab-df-convert:hover {\n",
              "      background-color: #434B5C;\n",
              "      box-shadow: 0px 1px 3px 1px rgba(0, 0, 0, 0.15);\n",
              "      filter: drop-shadow(0px 1px 2px rgba(0, 0, 0, 0.3));\n",
              "      fill: #FFFFFF;\n",
              "    }\n",
              "  </style>\n",
              "\n",
              "    <script>\n",
              "      const buttonEl =\n",
              "        document.querySelector('#df-8fca1091-2108-4f13-a0cc-a522fd4c0eee button.colab-df-convert');\n",
              "      buttonEl.style.display =\n",
              "        google.colab.kernel.accessAllowed ? 'block' : 'none';\n",
              "\n",
              "      async function convertToInteractive(key) {\n",
              "        const element = document.querySelector('#df-8fca1091-2108-4f13-a0cc-a522fd4c0eee');\n",
              "        const dataTable =\n",
              "          await google.colab.kernel.invokeFunction('convertToInteractive',\n",
              "                                                    [key], {});\n",
              "        if (!dataTable) return;\n",
              "\n",
              "        const docLinkHtml = 'Like what you see? Visit the ' +\n",
              "          '<a target=\"_blank\" href=https://colab.research.google.com/notebooks/data_table.ipynb>data table notebook</a>'\n",
              "          + ' to learn more about interactive tables.';\n",
              "        element.innerHTML = '';\n",
              "        dataTable['output_type'] = 'display_data';\n",
              "        await google.colab.output.renderOutput(dataTable, element);\n",
              "        const docLink = document.createElement('div');\n",
              "        docLink.innerHTML = docLinkHtml;\n",
              "        element.appendChild(docLink);\n",
              "      }\n",
              "    </script>\n",
              "  </div>\n",
              "\n",
              "\n",
              "    <div id=\"df-f198a28d-07ea-4fc3-8109-e2943b6c041b\">\n",
              "      <button class=\"colab-df-quickchart\" onclick=\"quickchart('df-f198a28d-07ea-4fc3-8109-e2943b6c041b')\"\n",
              "                title=\"Suggest charts\"\n",
              "                style=\"display:none;\">\n",
              "\n",
              "<svg xmlns=\"http://www.w3.org/2000/svg\" height=\"24px\"viewBox=\"0 0 24 24\"\n",
              "     width=\"24px\">\n",
              "    <g>\n",
              "        <path d=\"M19 3H5c-1.1 0-2 .9-2 2v14c0 1.1.9 2 2 2h14c1.1 0 2-.9 2-2V5c0-1.1-.9-2-2-2zM9 17H7v-7h2v7zm4 0h-2V7h2v10zm4 0h-2v-4h2v4z\"/>\n",
              "    </g>\n",
              "</svg>\n",
              "      </button>\n",
              "\n",
              "<style>\n",
              "  .colab-df-quickchart {\n",
              "      --bg-color: #E8F0FE;\n",
              "      --fill-color: #1967D2;\n",
              "      --hover-bg-color: #E2EBFA;\n",
              "      --hover-fill-color: #174EA6;\n",
              "      --disabled-fill-color: #AAA;\n",
              "      --disabled-bg-color: #DDD;\n",
              "  }\n",
              "\n",
              "  [theme=dark] .colab-df-quickchart {\n",
              "      --bg-color: #3B4455;\n",
              "      --fill-color: #D2E3FC;\n",
              "      --hover-bg-color: #434B5C;\n",
              "      --hover-fill-color: #FFFFFF;\n",
              "      --disabled-bg-color: #3B4455;\n",
              "      --disabled-fill-color: #666;\n",
              "  }\n",
              "\n",
              "  .colab-df-quickchart {\n",
              "    background-color: var(--bg-color);\n",
              "    border: none;\n",
              "    border-radius: 50%;\n",
              "    cursor: pointer;\n",
              "    display: none;\n",
              "    fill: var(--fill-color);\n",
              "    height: 32px;\n",
              "    padding: 0;\n",
              "    width: 32px;\n",
              "  }\n",
              "\n",
              "  .colab-df-quickchart:hover {\n",
              "    background-color: var(--hover-bg-color);\n",
              "    box-shadow: 0 1px 2px rgba(60, 64, 67, 0.3), 0 1px 3px 1px rgba(60, 64, 67, 0.15);\n",
              "    fill: var(--button-hover-fill-color);\n",
              "  }\n",
              "\n",
              "  .colab-df-quickchart-complete:disabled,\n",
              "  .colab-df-quickchart-complete:disabled:hover {\n",
              "    background-color: var(--disabled-bg-color);\n",
              "    fill: var(--disabled-fill-color);\n",
              "    box-shadow: none;\n",
              "  }\n",
              "\n",
              "  .colab-df-spinner {\n",
              "    border: 2px solid var(--fill-color);\n",
              "    border-color: transparent;\n",
              "    border-bottom-color: var(--fill-color);\n",
              "    animation:\n",
              "      spin 1s steps(1) infinite;\n",
              "  }\n",
              "\n",
              "  @keyframes spin {\n",
              "    0% {\n",
              "      border-color: transparent;\n",
              "      border-bottom-color: var(--fill-color);\n",
              "      border-left-color: var(--fill-color);\n",
              "    }\n",
              "    20% {\n",
              "      border-color: transparent;\n",
              "      border-left-color: var(--fill-color);\n",
              "      border-top-color: var(--fill-color);\n",
              "    }\n",
              "    30% {\n",
              "      border-color: transparent;\n",
              "      border-left-color: var(--fill-color);\n",
              "      border-top-color: var(--fill-color);\n",
              "      border-right-color: var(--fill-color);\n",
              "    }\n",
              "    40% {\n",
              "      border-color: transparent;\n",
              "      border-right-color: var(--fill-color);\n",
              "      border-top-color: var(--fill-color);\n",
              "    }\n",
              "    60% {\n",
              "      border-color: transparent;\n",
              "      border-right-color: var(--fill-color);\n",
              "    }\n",
              "    80% {\n",
              "      border-color: transparent;\n",
              "      border-right-color: var(--fill-color);\n",
              "      border-bottom-color: var(--fill-color);\n",
              "    }\n",
              "    90% {\n",
              "      border-color: transparent;\n",
              "      border-bottom-color: var(--fill-color);\n",
              "    }\n",
              "  }\n",
              "</style>\n",
              "\n",
              "      <script>\n",
              "        async function quickchart(key) {\n",
              "          const quickchartButtonEl =\n",
              "            document.querySelector('#' + key + ' button');\n",
              "          quickchartButtonEl.disabled = true;  // To prevent multiple clicks.\n",
              "          quickchartButtonEl.classList.add('colab-df-spinner');\n",
              "          try {\n",
              "            const charts = await google.colab.kernel.invokeFunction(\n",
              "                'suggestCharts', [key], {});\n",
              "          } catch (error) {\n",
              "            console.error('Error during call to suggestCharts:', error);\n",
              "          }\n",
              "          quickchartButtonEl.classList.remove('colab-df-spinner');\n",
              "          quickchartButtonEl.classList.add('colab-df-quickchart-complete');\n",
              "        }\n",
              "        (() => {\n",
              "          let quickchartButtonEl =\n",
              "            document.querySelector('#df-f198a28d-07ea-4fc3-8109-e2943b6c041b button');\n",
              "          quickchartButtonEl.style.display =\n",
              "            google.colab.kernel.accessAllowed ? 'block' : 'none';\n",
              "        })();\n",
              "      </script>\n",
              "    </div>\n",
              "\n",
              "    </div>\n",
              "  </div>\n"
            ],
            "application/vnd.google.colaboratory.intrinsic+json": {
              "type": "dataframe",
              "variable_name": "df",
              "summary": "{\n  \"name\": \"df\",\n  \"rows\": 21459,\n  \"fields\": [\n    {\n      \"column\": \"Text\",\n      \"properties\": {\n        \"dtype\": \"string\",\n        \"num_unique_values\": 21405,\n        \"samples\": [\n          \"i feel like they are more boring to paint than a bunch of fruit\",\n          \"i feel as weird criticizing this game as much as i feel weird praising it\",\n          \"i also feel very nostalgic about all these highschool memories\"\n        ],\n        \"semantic_type\": \"\",\n        \"description\": \"\"\n      }\n    },\n    {\n      \"column\": \"Emotion\",\n      \"properties\": {\n        \"dtype\": \"category\",\n        \"num_unique_values\": 6,\n        \"samples\": [\n          \"sadness\",\n          \"anger\",\n          \"happy\"\n        ],\n        \"semantic_type\": \"\",\n        \"description\": \"\"\n      }\n    }\n  ]\n}"
            }
          },
          "metadata": {},
          "execution_count": 42
        }
      ]
    },
    {
      "cell_type": "code",
      "source": [
        "df.info()"
      ],
      "metadata": {
        "colab": {
          "base_uri": "https://localhost:8080/"
        },
        "id": "zc0YQASK-HTX",
        "outputId": "fcb3c4df-5eae-4195-8431-ad2d6a66a64e"
      },
      "execution_count": 43,
      "outputs": [
        {
          "output_type": "stream",
          "name": "stdout",
          "text": [
            "<class 'pandas.core.frame.DataFrame'>\n",
            "RangeIndex: 21459 entries, 0 to 21458\n",
            "Data columns (total 2 columns):\n",
            " #   Column   Non-Null Count  Dtype \n",
            "---  ------   --------------  ----- \n",
            " 0   Text     21459 non-null  object\n",
            " 1   Emotion  21459 non-null  object\n",
            "dtypes: object(2)\n",
            "memory usage: 335.4+ KB\n"
          ]
        }
      ]
    },
    {
      "cell_type": "code",
      "source": [
        "print(f\"Filas y columnas: {df.shape}\")"
      ],
      "metadata": {
        "colab": {
          "base_uri": "https://localhost:8080/"
        },
        "id": "Dd_ZkQ_Z-RM2",
        "outputId": "7da532d2-245d-4681-96c9-23131bb0d9b5"
      },
      "execution_count": 44,
      "outputs": [
        {
          "output_type": "stream",
          "name": "stdout",
          "text": [
            "Filas y columnas: (21459, 2)\n"
          ]
        }
      ]
    },
    {
      "cell_type": "code",
      "source": [
        "sns.set_style(\"whitegrid\")\n",
        "sns.countplot(x=\"Emotion\",data = df)"
      ],
      "metadata": {
        "colab": {
          "base_uri": "https://localhost:8080/",
          "height": 466
        },
        "id": "vZwjQUEi8nKU",
        "outputId": "ca0b7eaf-c679-4ed1-b28d-4d153953b13f"
      },
      "execution_count": 45,
      "outputs": [
        {
          "output_type": "execute_result",
          "data": {
            "text/plain": [
              "<Axes: xlabel='Emotion', ylabel='count'>"
            ]
          },
          "metadata": {},
          "execution_count": 45
        },
        {
          "output_type": "display_data",
          "data": {
            "text/plain": [
              "<Figure size 640x480 with 1 Axes>"
            ],
            "image/png": "[encoded data removed]"
          },
          "metadata": {}
        }
      ]
    },
    {
      "cell_type": "markdown",
      "source": [
        "## **2.2. Preprocesamiento**"
      ],
      "metadata": {
        "id": "EOUuMJpKKGQe"
      }
    },
    {
      "cell_type": "code",
      "source": [
        "# Limpiar texto\n",
        "def clean_text(text):\n",
        "    text = text.lower()\n",
        "    text = re.sub(r\"[^a-zA-Z\\s]\", \"\", text)  # Solo letras y espacios\n",
        "    tokens = text.split()\n",
        "    return tokens\n",
        "\n",
        "df['tokens'] = df['Text'].apply(clean_text)"
      ],
      "metadata": {
        "id": "17YXHXqADxM7"
      },
      "execution_count": 46,
      "outputs": []
    },
    {
      "cell_type": "code",
      "source": [
        "# Construir vocabulario\n",
        "all_tokens = [token for sublist in df['tokens'] for token in sublist]\n",
        "vocab = sorted(set(all_tokens))\n",
        "word2idx = {word: idx+2 for idx, word in enumerate(vocab)}  # +2 para reservar 0 (PAD) y 1 (UNK)\n",
        "word2idx['<PAD>'] = 0\n",
        "word2idx['<UNK>'] = 1\n",
        "\n",
        "vocab_size = len(word2idx)"
      ],
      "metadata": {
        "id": "7BpGgHfKRg4r"
      },
      "execution_count": 47,
      "outputs": []
    },
    {
      "cell_type": "code",
      "source": [
        "# Convertir tokens a índices\n",
        "def tokens_to_indices(tokens):\n",
        "    return [word2idx.get(token, 1) for token in tokens]  # 1 = <UNK>\n",
        "\n",
        "df['input_ids'] = df['tokens'].apply(tokens_to_indices)"
      ],
      "metadata": {
        "id": "wr6_tjhDR-e5"
      },
      "execution_count": 48,
      "outputs": []
    },
    {
      "cell_type": "code",
      "source": [
        "# Codificar etiquetas\n",
        "label_encoder = LabelEncoder()\n",
        "df['label'] = label_encoder.fit_transform(df['Emotion'])\n",
        "num_classes = len(label_encoder.classes_)"
      ],
      "metadata": {
        "id": "Xi9uZXhJDxIx"
      },
      "execution_count": 49,
      "outputs": []
    },
    {
      "cell_type": "code",
      "source": [
        "# Ver clases disponibles\n",
        "print(\"Emociones codificadas:\", dict(zip(label_encoder.classes_, label_encoder.transform(label_encoder.classes_))))"
      ],
      "metadata": {
        "colab": {
          "base_uri": "https://localhost:8080/"
        },
        "id": "P2sI15mlD3iA",
        "outputId": "154e83e2-9fb7-4a4e-ff39-124dc62b9efb"
      },
      "execution_count": 50,
      "outputs": [
        {
          "output_type": "stream",
          "name": "stdout",
          "text": [
            "Emociones codificadas: {'anger': np.int64(0), 'fear': np.int64(1), 'happy': np.int64(2), 'love': np.int64(3), 'sadness': np.int64(4), 'surprise': np.int64(5)}\n"
          ]
        }
      ]
    },
    {
      "cell_type": "code",
      "source": [
        "# 5. Padding/truncamiento\n",
        "max_len = 20\n",
        "\n",
        "def pad_sequence(seq, max_len=max_len):\n",
        "    if len(seq) < max_len:\n",
        "        return seq + [0]*(max_len - len(seq))\n",
        "    else:\n",
        "        return seq[:max_len]\n",
        "\n",
        "df['input_ids'] = df['input_ids'].apply(lambda x: pad_sequence(x, max_len))"
      ],
      "metadata": {
        "id": "nuO2502NSiY3"
      },
      "execution_count": 51,
      "outputs": []
    },
    {
      "cell_type": "code",
      "source": [
        "# 6. Dataset personalizado\n",
        "class EmotionDataset(Dataset):\n",
        "    def __init__(self, inputs, labels):\n",
        "        self.inputs = torch.tensor(inputs, dtype=torch.long)\n",
        "        self.labels = torch.tensor(labels, dtype=torch.long)\n",
        "\n",
        "    def __len__(self):\n",
        "        return len(self.inputs)\n",
        "\n",
        "    def __getitem__(self, idx):\n",
        "        return self.inputs[idx], self.labels[idx]"
      ],
      "metadata": {
        "id": "hvbbSmBESkpk"
      },
      "execution_count": 52,
      "outputs": []
    },
    {
      "cell_type": "code",
      "source": [
        "# 7. Train/Test split\n",
        "X_train, X_test, y_train, y_test = train_test_split(df['input_ids'].tolist(), df['label'].tolist(), test_size=0.2, random_state=42)"
      ],
      "metadata": {
        "id": "bD8qoNywD3fF"
      },
      "execution_count": 53,
      "outputs": []
    },
    {
      "cell_type": "code",
      "source": [
        "train_dataset = EmotionDataset(X_train, y_train)\n",
        "test_dataset = EmotionDataset(X_test, y_test)"
      ],
      "metadata": {
        "id": "O1dPa1dzJxoq"
      },
      "execution_count": 54,
      "outputs": []
    },
    {
      "cell_type": "code",
      "source": [
        "train_loader = DataLoader(train_dataset, batch_size=32, shuffle=True)\n",
        "test_loader = DataLoader(test_dataset, batch_size=32)"
      ],
      "metadata": {
        "id": "pV0aDQ4oJxhu"
      },
      "execution_count": 55,
      "outputs": []
    },
    {
      "cell_type": "markdown",
      "source": [
        "# **3. Modelo de Red Neuronal**"
      ],
      "metadata": {
        "id": "0VQZWx_oKuBN"
      }
    },
    {
      "cell_type": "markdown",
      "source": [
        "## **3.1. Definición del modelo**"
      ],
      "metadata": {
        "id": "YbuJuaW2LC3d"
      }
    },
    {
      "cell_type": "code",
      "source": [
        "class EmotionClassifier(nn.Module):\n",
        "    def __init__(self, vocab_size, embed_dim, num_classes):\n",
        "        super(EmotionClassifier, self).__init__()\n",
        "        self.embedding = nn.Embedding(num_embeddings=vocab_size, embedding_dim=embed_dim, padding_idx=0)\n",
        "        self.fc1 = nn.Linear(embed_dim, 64)\n",
        "        self.fc2 = nn.Linear(64, num_classes)\n",
        "\n",
        "    def forward(self, x):\n",
        "        # x shape: (batch_size, seq_len)\n",
        "        embeds = self.embedding(x)  # (batch_size, seq_len, embed_dim)\n",
        "        x = embeds.mean(dim=1)      # Global Average Pooling → (batch_size, embed_dim)\n",
        "        x = F.relu(self.fc1(x))\n",
        "        x = self.fc2(x)             # (batch_size, num_classes)\n",
        "        return x\n"
      ],
      "metadata": {
        "id": "NyEtkkmtJxYJ"
      },
      "execution_count": 56,
      "outputs": []
    },
    {
      "cell_type": "markdown",
      "source": [
        "## **3.2. Instanciar el modelo**"
      ],
      "metadata": {
        "id": "6W9cnVwaLIVb"
      }
    },
    {
      "cell_type": "code",
      "source": [
        "embed_dim = 400\n",
        "model = EmotionClassifier(vocab_size=len(word2idx), embed_dim=embed_dim, num_classes=num_classes)"
      ],
      "metadata": {
        "id": "-rPhJ24xD3cH"
      },
      "execution_count": 80,
      "outputs": []
    },
    {
      "cell_type": "markdown",
      "source": [
        "## **3.3. Elegimos optimizador y función de pérdida**"
      ],
      "metadata": {
        "id": "sqnK5CXZLXEm"
      }
    },
    {
      "cell_type": "code",
      "source": [
        "criterion = nn.CrossEntropyLoss()\n",
        "optimizer = optim.Adam(model.parameters(), lr=0.001)"
      ],
      "metadata": {
        "id": "q_FYeA4ZDw_p"
      },
      "execution_count": 81,
      "outputs": []
    },
    {
      "cell_type": "markdown",
      "source": [
        "# **4. Entrenamiento y evaluación**"
      ],
      "metadata": {
        "id": "GX0HM8YuLbyn"
      }
    },
    {
      "cell_type": "code",
      "source": [
        "device = torch.device(\"cuda\" if torch.cuda.is_available() else \"cpu\")\n",
        "model = model.to(device)"
      ],
      "metadata": {
        "id": "cci8DY3_VKXo"
      },
      "execution_count": 82,
      "outputs": []
    },
    {
      "cell_type": "code",
      "source": [
        "def train_epoch(model, dataloader, criterion, optimizer):\n",
        "    model.train()\n",
        "    total_loss = 0\n",
        "    for inputs, labels in dataloader:\n",
        "        inputs, labels = inputs.to(device), labels.to(device)\n",
        "        optimizer.zero_grad()\n",
        "        outputs = model(inputs)\n",
        "        loss = criterion(outputs, labels)\n",
        "        loss.backward()\n",
        "        optimizer.step()\n",
        "        total_loss += loss.item() * inputs.size(0)\n",
        "    return total_loss / len(dataloader.dataset)\n",
        "\n",
        "def evaluate(model, dataloader):\n",
        "    model.eval()\n",
        "    correct = 0\n",
        "    total = 0\n",
        "    with torch.no_grad():\n",
        "        for inputs, labels in dataloader:\n",
        "            inputs, labels = inputs.to(device), labels.to(device)\n",
        "            outputs = model(inputs)\n",
        "            _, predicted = torch.max(outputs, 1)\n",
        "            total += labels.size(0)\n",
        "            correct += (predicted == labels).sum().item()\n",
        "    return correct / total"
      ],
      "metadata": {
        "id": "lmmRj-QbVNBv"
      },
      "execution_count": 83,
      "outputs": []
    },
    {
      "cell_type": "code",
      "source": [
        "# Para guardar métricas\n",
        "history = {\n",
        "    \"epoch\": [],\n",
        "    \"train_loss\": [],\n",
        "    \"test_acc\": []\n",
        "}\n",
        "epochs = 10\n",
        "for epoch in range(1, epochs + 1):\n",
        "    train_loss = train_epoch(model, train_loader, criterion, optimizer)\n",
        "    test_acc = evaluate(model, test_loader)\n",
        "\n",
        "    # Guardar métricas\n",
        "    history[\"epoch\"].append(epoch)\n",
        "    history[\"train_loss\"].append(train_loss)\n",
        "    history[\"test_acc\"].append(test_acc)\n",
        "\n",
        "    print(f\"Epoch {epoch}/{epochs} — Loss: {train_loss:.4f} — Test Accuracy: {test_acc:.4f}\")"
      ],
      "metadata": {
        "colab": {
          "base_uri": "https://localhost:8080/"
        },
        "id": "Jeg4hK-GUjIa",
        "outputId": "e9a14162-a33f-4020-8b96-bac1847ee394"
      },
      "execution_count": 84,
      "outputs": [
        {
          "output_type": "stream",
          "name": "stdout",
          "text": [
            "Epoch 1/10 — Loss: 1.4512 — Test Accuracy: 0.5902\n",
            "Epoch 2/10 — Loss: 0.7882 — Test Accuracy: 0.7759\n",
            "Epoch 3/10 — Loss: 0.4188 — Test Accuracy: 0.7992\n",
            "Epoch 4/10 — Loss: 0.2720 — Test Accuracy: 0.8022\n",
            "Epoch 5/10 — Loss: 0.1889 — Test Accuracy: 0.8022\n",
            "Epoch 6/10 — Loss: 0.1353 — Test Accuracy: 0.8041\n",
            "Epoch 7/10 — Loss: 0.0997 — Test Accuracy: 0.7971\n",
            "Epoch 8/10 — Loss: 0.0718 — Test Accuracy: 0.8017\n",
            "Epoch 9/10 — Loss: 0.0548 — Test Accuracy: 0.7957\n",
            "Epoch 10/10 — Loss: 0.0421 — Test Accuracy: 0.7982\n"
          ]
        }
      ]
    },
    {
      "cell_type": "markdown",
      "source": [
        "# **5. Gráfica**"
      ],
      "metadata": {
        "id": "3rbfi6LWLo9-"
      }
    },
    {
      "cell_type": "code",
      "source": [
        "plt.figure(figsize=(14, 5))\n",
        "\n",
        "# Pérdida (Loss)\n",
        "plt.subplot(1, 2, 1)\n",
        "plt.plot(history['epoch'], history['train_loss'], label='Train Loss', color='blue')\n",
        "plt.xlabel('Epoch')\n",
        "plt.ylabel('Loss')\n",
        "plt.title('Pérdida durante el entrenamiento')\n",
        "plt.legend()\n",
        "\n",
        "# Precisión (Accuracy)\n",
        "plt.subplot(1, 2, 2)\n",
        "plt.plot(history['epoch'], history['test_acc'], label='Test Accuracy', color='green')\n",
        "plt.xlabel('Epoch')\n",
        "plt.ylabel('Accuracy')\n",
        "plt.title('Precisión durante el entrenamiento')\n",
        "plt.legend()\n",
        "\n",
        "plt.tight_layout()\n",
        "plt.show()"
      ],
      "metadata": {
        "colab": {
          "base_uri": "https://localhost:8080/",
          "height": 295
        },
        "id": "f8WObPjAZa5t",
        "outputId": "1d4cd407-9b11-4674-8f52-c901dfafa78a"
      },
      "execution_count": 85,
      "outputs": [
        {
          "output_type": "display_data",
          "data": {
            "text/plain": [
              "<Figure size 1400x500 with 2 Axes>"
            ],
            "image/png": "[encoded data removed]"
          },
          "metadata": {}
        }
      ]
    },
    {
      "cell_type": "markdown",
      "source": [
        "# **6. Enviar emoción detectada a Blender**"
      ],
      "metadata": {
        "id": "3rMqYJ39LvGS"
      }
    },
    {
      "cell_type": "markdown",
      "source": [
        "## **6.1. Función para preprocesar texto nuevo y para predecir emoción**"
      ],
      "metadata": {
        "id": "m2QbBl5ZNZQU"
      }
    },
    {
      "cell_type": "code",
      "source": [
        "# Función para preprocesar texto nuevo\n",
        "def preprocess_text(text):\n",
        "    tokens = clean_text(text)\n",
        "    indices = tokens_to_indices(tokens)\n",
        "    padded = pad_sequence(indices, max_len)\n",
        "    return torch.tensor(padded, dtype=torch.long).unsqueeze(0)  # batch=1\n",
        "\n",
        "# Función para predecir emoción\n",
        "def predict_emotion(model, text):\n",
        "    model.eval()\n",
        "    input_tensor = preprocess_text(text).to(device)\n",
        "    with torch.no_grad():\n",
        "        output = model(input_tensor)\n",
        "        pred = torch.argmax(output, dim=1).item()\n",
        "    emotion_label = label_encoder.inverse_transform([pred])[0]\n",
        "    return emotion_label"
      ],
      "metadata": {
        "id": "eP43SPAnXWuS"
      },
      "execution_count": 63,
      "outputs": []
    },
    {
      "cell_type": "markdown",
      "source": [
        "## **6.2. Implementación o verificación**"
      ],
      "metadata": {
        "id": "UOBs_53NMeoy"
      }
    },
    {
      "cell_type": "code",
      "source": [
        "def test_prompt(prompt):\n",
        "    emotion = predict_emotion(model, prompt)\n",
        "    print(f\"Texto: \\\"{prompt}\\\"\")\n",
        "    print(f\"Emoción detectada: {emotion}\")\n",
        "    return emotion"
      ],
      "metadata": {
        "id": "qW0q9sCvUi6v"
      },
      "execution_count": 64,
      "outputs": []
    },
    {
      "cell_type": "code",
      "source": [
        "test_prompt(\n",
        "    \"But I'm a creep, Im a weirdo, What the hell am I doing here?, I don't belong here\"\n",
        "    )"
      ],
      "metadata": {
        "colab": {
          "base_uri": "https://localhost:8080/",
          "height": 70
        },
        "id": "MvK-6mph9h16",
        "outputId": "b91bf83a-1f2e-4a69-b0fc-05b25a2488fe"
      },
      "execution_count": 65,
      "outputs": [
        {
          "output_type": "stream",
          "name": "stdout",
          "text": [
            "Texto: \"But I'm a creep, Im a weirdo, What the hell am I doing here?, I don't belong here\"\n",
            "Emoción detectada: sadness\n"
          ]
        },
        {
          "output_type": "execute_result",
          "data": {
            "text/plain": [
              "'sadness'"
            ],
            "application/vnd.google.colaboratory.intrinsic+json": {
              "type": "string"
            }
          },
          "metadata": {},
          "execution_count": 65
        }
      ]
    },
    {
      "cell_type": "code",
      "source": [
        "!pip install deep-translator"
      ],
      "metadata": {
        "colab": {
          "base_uri": "https://localhost:8080/"
        },
        "id": "v1sjvdLWeNYa",
        "outputId": "b94ab6d6-635d-4d04-e35a-305cc37efe3c"
      },
      "execution_count": 66,
      "outputs": [
        {
          "output_type": "stream",
          "name": "stdout",
          "text": [
            "Requirement already satisfied: deep-translator in /usr/local/lib/python3.11/dist-packages (1.11.4)\n",
            "Requirement already satisfied: beautifulsoup4<5.0.0,>=4.9.1 in /usr/local/lib/python3.11/dist-packages (from deep-translator) (4.13.4)\n",
            "Requirement already satisfied: requests<3.0.0,>=2.23.0 in /usr/local/lib/python3.11/dist-packages (from deep-translator) (2.32.3)\n",
            "Requirement already satisfied: soupsieve>1.2 in /usr/local/lib/python3.11/dist-packages (from beautifulsoup4<5.0.0,>=4.9.1->deep-translator) (2.7)\n",
            "Requirement already satisfied: typing-extensions>=4.0.0 in /usr/local/lib/python3.11/dist-packages (from beautifulsoup4<5.0.0,>=4.9.1->deep-translator) (4.14.0)\n",
            "Requirement already satisfied: charset-normalizer<4,>=2 in /usr/local/lib/python3.11/dist-packages (from requests<3.0.0,>=2.23.0->deep-translator) (3.4.2)\n",
            "Requirement already satisfied: idna<4,>=2.5 in /usr/local/lib/python3.11/dist-packages (from requests<3.0.0,>=2.23.0->deep-translator) (3.10)\n",
            "Requirement already satisfied: urllib3<3,>=1.21.1 in /usr/local/lib/python3.11/dist-packages (from requests<3.0.0,>=2.23.0->deep-translator) (2.4.0)\n",
            "Requirement already satisfied: certifi>=2017.4.17 in /usr/local/lib/python3.11/dist-packages (from requests<3.0.0,>=2.23.0->deep-translator) (2025.6.15)\n"
          ]
        }
      ]
    },
    {
      "cell_type": "code",
      "source": [
        "def traducir_es_a_en(texto_es):\n",
        "    return GoogleTranslator(source='auto', target='en').translate(texto_es)"
      ],
      "metadata": {
        "id": "94uI_t_meQV1"
      },
      "execution_count": 67,
      "outputs": []
    },
    {
      "cell_type": "code",
      "source": [
        "emociones_en_es = {\n",
        "    \"anger\": \"ira\",\n",
        "    \"disgust\": \"asco\",\n",
        "    \"fear\": \"miedo\",\n",
        "    \"happy\": \"alegría\",\n",
        "    \"neutral\": \"neutral\",\n",
        "    \"sadness\": \"tristeza\",\n",
        "    \"surprise\": \"sorpresa\",\n",
        "    \"love\": \"amor\"\n",
        "}"
      ],
      "metadata": {
        "id": "HN4zRqAPeSv2"
      },
      "execution_count": 68,
      "outputs": []
    },
    {
      "cell_type": "code",
      "source": [
        "def predict_emotion_es(model, texto_es):\n",
        "    texto_en = traducir_es_a_en(texto_es)\n",
        "    model.eval()\n",
        "    input_tensor = preprocess_text(texto_en).to(device)\n",
        "    with torch.no_grad():\n",
        "        output = model(input_tensor)\n",
        "        pred = torch.argmax(output, dim=1).item()\n",
        "    emotion_en = label_encoder.inverse_transform([pred])[0]\n",
        "    emotion_es = emociones_en_es.get(emotion_en, emotion_en)\n",
        "    return emotion_es"
      ],
      "metadata": {
        "id": "JmSubcpDeWvd"
      },
      "execution_count": 69,
      "outputs": []
    },
    {
      "cell_type": "code",
      "source": [
        "def guardar_emocion_blender(emocion, archivo=\"emocion.txt\"):\n",
        "    with open(archivo, \"w\") as f:\n",
        "        f.write(emocion)"
      ],
      "metadata": {
        "id": "XhtgnZkTkDAw"
      },
      "execution_count": 70,
      "outputs": []
    },
    {
      "cell_type": "code",
      "source": [
        "texto = \"El dia es tan bonito hoy, soleado y perfecto para un picnic\"\n",
        "emocion = predict_emotion_es(model, texto)\n",
        "guardar_emocion_blender(emocion)\n",
        "print(f\"Emoción detectada y guardada: {emocion}\")"
      ],
      "metadata": {
        "colab": {
          "base_uri": "https://localhost:8080/"
        },
        "id": "4Sx5f-uHkE15",
        "outputId": "546e623c-8b4b-46c7-da10-f83a907d3f75"
      },
      "execution_count": 71,
      "outputs": [
        {
          "output_type": "stream",
          "name": "stdout",
          "text": [
            "Emoción detectada y guardada: alegría\n"
          ]
        }
      ]
    },
    {
      "cell_type": "code",
      "source": [
        "texto_usuario = \"Una mujer golpea la mesa con el puño cerrado. Su rostro rojo y ceño fruncido, respira rápido mientras sus ojos lanzan fuego.\"\n",
        "prediccion = predict_emotion_es(model, texto_usuario)\n",
        "print(f\"Emoción detectada: {prediccion}\")"
      ],
      "metadata": {
        "colab": {
          "base_uri": "https://localhost:8080/"
        },
        "id": "Nq8Fd2NbeZLD",
        "outputId": "afdea041-5613-4336-cc3a-ef18af6b9d88"
      },
      "execution_count": 72,
      "outputs": [
        {
          "output_type": "stream",
          "name": "stdout",
          "text": [
            "Emoción detectada: ira\n"
          ]
        }
      ]
    }
  ]
}